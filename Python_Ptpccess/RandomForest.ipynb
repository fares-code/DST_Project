{
 "cells": [
  {
   "cell_type": "markdown",
   "metadata": {},
   "source": [
    "### Libraries"
   ]
  },
  {
   "cell_type": "code",
   "execution_count": 1,
   "metadata": {},
   "outputs": [],
   "source": [
    "import pandas as pd\n",
    "import seaborn as sns\n",
    "import matplotlib.pyplot as plt\n",
    "from sklearn.ensemble import RandomForestRegressor\n",
    "from sklearn.model_selection import train_test_split\n",
    "from sklearn.metrics import mean_squared_error, r2_score\n",
    "from sklearn.preprocessing import MinMaxScaler"
   ]
  },
  {
   "cell_type": "markdown",
   "metadata": {},
   "source": [
    "### Importing Data"
   ]
  },
  {
   "cell_type": "code",
   "execution_count": 2,
   "metadata": {},
   "outputs": [],
   "source": [
    "data = pd.read_csv('after_clean.csv').drop(columns=['Unnamed: 0'])"
   ]
  },
  {
   "cell_type": "markdown",
   "metadata": {},
   "source": [
    "### Scaling the Data With MinMax"
   ]
  },
  {
   "cell_type": "code",
   "execution_count": 3,
   "metadata": {},
   "outputs": [
    {
     "data": {
      "text/html": [
       "<div>\n",
       "<style scoped>\n",
       "    .dataframe tbody tr th:only-of-type {\n",
       "        vertical-align: middle;\n",
       "    }\n",
       "\n",
       "    .dataframe tbody tr th {\n",
       "        vertical-align: top;\n",
       "    }\n",
       "\n",
       "    .dataframe thead th {\n",
       "        text-align: right;\n",
       "    }\n",
       "</style>\n",
       "<table border=\"1\" class=\"dataframe\">\n",
       "  <thead>\n",
       "    <tr style=\"text-align: right;\">\n",
       "      <th></th>\n",
       "      <th>Book_Average_Rating</th>\n",
       "      <th>Sale_Price</th>\n",
       "      <th>Sale_Rank</th>\n",
       "      <th>Gross_Sales</th>\n",
       "    </tr>\n",
       "  </thead>\n",
       "  <tbody>\n",
       "    <tr>\n",
       "      <th>Book_Average_Rating</th>\n",
       "      <td>1.000000</td>\n",
       "      <td>-0.020990</td>\n",
       "      <td>-0.036486</td>\n",
       "      <td>-0.050240</td>\n",
       "    </tr>\n",
       "    <tr>\n",
       "      <th>Sale_Price</th>\n",
       "      <td>-0.020990</td>\n",
       "      <td>1.000000</td>\n",
       "      <td>0.082304</td>\n",
       "      <td>0.266899</td>\n",
       "    </tr>\n",
       "    <tr>\n",
       "      <th>Sale_Rank</th>\n",
       "      <td>-0.036486</td>\n",
       "      <td>0.082304</td>\n",
       "      <td>1.000000</td>\n",
       "      <td>-0.439521</td>\n",
       "    </tr>\n",
       "    <tr>\n",
       "      <th>Gross_Sales</th>\n",
       "      <td>-0.050240</td>\n",
       "      <td>0.266899</td>\n",
       "      <td>-0.439521</td>\n",
       "      <td>1.000000</td>\n",
       "    </tr>\n",
       "  </tbody>\n",
       "</table>\n",
       "</div>"
      ],
      "text/plain": [
       "                     Book_Average_Rating  Sale_Price  Sale_Rank  Gross_Sales\n",
       "Book_Average_Rating             1.000000   -0.020990  -0.036486    -0.050240\n",
       "Sale_Price                     -0.020990    1.000000   0.082304     0.266899\n",
       "Sale_Rank                      -0.036486    0.082304   1.000000    -0.439521\n",
       "Gross_Sales                    -0.050240    0.266899  -0.439521     1.000000"
      ]
     },
     "execution_count": 3,
     "metadata": {},
     "output_type": "execute_result"
    }
   ],
   "source": [
    "temp = data[['Book_Average_Rating', 'Sale_Price', 'Sale_Rank', 'Gross_Sales']]\n",
    "# Standardize the data\n",
    "scaler = MinMaxScaler()\n",
    "x_scaled = pd.DataFrame(scaler.fit_transform(temp), columns=temp.columns)\n",
    "y_scaled = x_scaled['Gross_Sales']\n",
    "x_scaled = x_scaled.drop(columns=['Gross_Sales'])\n",
    "\n",
    "temp.corr()"
   ]
  },
  {
   "cell_type": "code",
   "execution_count": 4,
   "metadata": {},
   "outputs": [
    {
     "data": {
      "text/html": [
       "<div>\n",
       "<style scoped>\n",
       "    .dataframe tbody tr th:only-of-type {\n",
       "        vertical-align: middle;\n",
       "    }\n",
       "\n",
       "    .dataframe tbody tr th {\n",
       "        vertical-align: top;\n",
       "    }\n",
       "\n",
       "    .dataframe thead th {\n",
       "        text-align: right;\n",
       "    }\n",
       "</style>\n",
       "<table border=\"1\" class=\"dataframe\">\n",
       "  <thead>\n",
       "    <tr style=\"text-align: right;\">\n",
       "      <th></th>\n",
       "      <th>Book_Average_Rating</th>\n",
       "      <th>Sale_Price</th>\n",
       "      <th>Sale_Rank</th>\n",
       "      <th>Gross_Sales</th>\n",
       "    </tr>\n",
       "  </thead>\n",
       "  <tbody>\n",
       "    <tr>\n",
       "      <th>0</th>\n",
       "      <td>3.42</td>\n",
       "      <td>4.88</td>\n",
       "      <td>1</td>\n",
       "      <td>34160.00</td>\n",
       "    </tr>\n",
       "    <tr>\n",
       "      <th>1</th>\n",
       "      <td>4.23</td>\n",
       "      <td>1.99</td>\n",
       "      <td>2</td>\n",
       "      <td>12437.50</td>\n",
       "    </tr>\n",
       "    <tr>\n",
       "      <th>2</th>\n",
       "      <td>3.31</td>\n",
       "      <td>8.69</td>\n",
       "      <td>3</td>\n",
       "      <td>47795.00</td>\n",
       "    </tr>\n",
       "    <tr>\n",
       "      <th>3</th>\n",
       "      <td>4.04</td>\n",
       "      <td>7.50</td>\n",
       "      <td>3</td>\n",
       "      <td>41250.00</td>\n",
       "    </tr>\n",
       "    <tr>\n",
       "      <th>4</th>\n",
       "      <td>4.04</td>\n",
       "      <td>7.99</td>\n",
       "      <td>4</td>\n",
       "      <td>37952.50</td>\n",
       "    </tr>\n",
       "    <tr>\n",
       "      <th>...</th>\n",
       "      <td>...</td>\n",
       "      <td>...</td>\n",
       "      <td>...</td>\n",
       "      <td>...</td>\n",
       "    </tr>\n",
       "    <tr>\n",
       "      <th>973</th>\n",
       "      <td>3.52</td>\n",
       "      <td>0.99</td>\n",
       "      <td>1268</td>\n",
       "      <td>104.94</td>\n",
       "    </tr>\n",
       "    <tr>\n",
       "      <th>974</th>\n",
       "      <td>4.34</td>\n",
       "      <td>7.99</td>\n",
       "      <td>1270</td>\n",
       "      <td>846.94</td>\n",
       "    </tr>\n",
       "    <tr>\n",
       "      <th>975</th>\n",
       "      <td>3.92</td>\n",
       "      <td>7.99</td>\n",
       "      <td>1271</td>\n",
       "      <td>846.94</td>\n",
       "    </tr>\n",
       "    <tr>\n",
       "      <th>976</th>\n",
       "      <td>4.17</td>\n",
       "      <td>0.99</td>\n",
       "      <td>1272</td>\n",
       "      <td>104.94</td>\n",
       "    </tr>\n",
       "    <tr>\n",
       "      <th>977</th>\n",
       "      <td>4.07</td>\n",
       "      <td>2.99</td>\n",
       "      <td>1273</td>\n",
       "      <td>316.94</td>\n",
       "    </tr>\n",
       "  </tbody>\n",
       "</table>\n",
       "<p>978 rows × 4 columns</p>\n",
       "</div>"
      ],
      "text/plain": [
       "     Book_Average_Rating  Sale_Price  Sale_Rank  Gross_Sales\n",
       "0                   3.42        4.88          1     34160.00\n",
       "1                   4.23        1.99          2     12437.50\n",
       "2                   3.31        8.69          3     47795.00\n",
       "3                   4.04        7.50          3     41250.00\n",
       "4                   4.04        7.99          4     37952.50\n",
       "..                   ...         ...        ...          ...\n",
       "973                 3.52        0.99       1268       104.94\n",
       "974                 4.34        7.99       1270       846.94\n",
       "975                 3.92        7.99       1271       846.94\n",
       "976                 4.17        0.99       1272       104.94\n",
       "977                 4.07        2.99       1273       316.94\n",
       "\n",
       "[978 rows x 4 columns]"
      ]
     },
     "execution_count": 4,
     "metadata": {},
     "output_type": "execute_result"
    }
   ],
   "source": [
    "temp"
   ]
  },
  {
   "cell_type": "code",
   "execution_count": 5,
   "metadata": {},
   "outputs": [
    {
     "data": {
      "image/png": "[encoded data removed]",
      "text/plain": [
       "<Figure size 640x480 with 2 Axes>"
      ]
     },
     "metadata": {},
     "output_type": "display_data"
    }
   ],
   "source": [
    "sns.heatmap(temp.corr(), annot=True, cmap='plasma')\n",
    "plt.show()"
   ]
  },
  {
   "cell_type": "code",
   "execution_count": 6,
   "metadata": {},
   "outputs": [
    {
     "name": "stdout",
     "output_type": "stream",
     "text": [
      "Importance of the Columns:\n",
      "Book_Average_Rating 0.01627806227722832 | Sale_Price 0.19861182083845721 | Sale_Rank 0.7851101168843145\n",
      "Training Set: R² = 0.9925350667035896 | Adjusted R² = 0.9925062816137576 | MSE = 6.208578633790423e-05\n",
      "Test Set: R² = 0.9836560379508418 | Adjusted R² = 0.9834006635438237 | MSE = 4.032808948697467e-05\n"
     ]
    }
   ],
   "source": [
    "# Split the data into training and test sets\n",
    "x_train, x_test, y_train, y_test = train_test_split(x_scaled, y_scaled, test_size=0.2, random_state=42)\n",
    "\n",
    "# Train model\n",
    "model = RandomForestRegressor(n_estimators=1000, random_state=42)\n",
    "model.fit(x_train, y_train)\n",
    "\n",
    "# Training\n",
    "y_pred_train = model.predict(x_train)\n",
    "# Calculating Metrics for training set\n",
    "mse_train = mean_squared_error(y_train, y_pred_train)\n",
    "r2_train = r2_score(y_train, y_pred_train)\n",
    "# Adjusted R²\n",
    "p = x_train.shape[1]\n",
    "n_train = len(y_train)\n",
    "adjusted_r2_train = 1 - (1 - r2_train) * (n_train - 1) / (n_train - p - 1)\n",
    "\n",
    "# Testing\n",
    "y_pred_test = model.predict(x_test)\n",
    "# Calculating Metrics for testing set\n",
    "mse_test = mean_squared_error(y_test, y_pred_test)\n",
    "r2_test = r2_score(y_test, y_pred_test)\n",
    "# Adjusted R²\n",
    "n_test = len(y_test)\n",
    "adjusted_r2_test = 1 - (1 - r2_test) * (n_test - 1) / (n_test - p - 1)\n",
    "\n",
    "print(\"Importance of the Columns:\\nBook_Average_Rating {0} | Sale_Price {1} | Sale_Rank {2}\".format(*model.feature_importances_))\n",
    "print(\"Training Set: R² =\", r2_train, \"| Adjusted R² =\", adjusted_r2_train, \"| MSE =\", mse_train)\n",
    "print(\"Test Set: R² =\", r2_test, \"| Adjusted R² =\", adjusted_r2_test, \"| MSE =\", mse_test)\n"
   ]
  },
  {
   "cell_type": "code",
   "execution_count": 7,
   "metadata": {},
   "outputs": [
    {
     "name": "stdout",
     "output_type": "stream",
     "text": [
      "Predicted Value of Sales Before Denormalization: 0.4296992855534257\n",
      "Predicted Value of Sales After Denormalization 20597.32471\n"
     ]
    }
   ],
   "source": [
    "ls = []\n",
    "for i in temp.columns[0:-1]:\n",
    "    new_value = (float(input(f'Enter {i}')) - temp[i].min()) / (temp[i].max() - temp[i].min())\n",
    "    ls.append(new_value)\n",
    "\n",
    "x = pd.DataFrame([[*ls]], columns=temp.columns[0:-1])\n",
    "\n",
    "y_pred = model.predict(x)\n",
    "y = y_pred * (temp['Gross_Sales'].max() - temp['Gross_Sales'].min()) + temp['Gross_Sales'].min()\n",
    "print('Predicted Value of Sales Before Denormalization:', *y_pred)\n",
    "print('Predicted Value of Sales After Denormalization', *y)"
   ]
  },
  {
   "cell_type": "code",
   "execution_count": 8,
   "metadata": {},
   "outputs": [
    {
     "name": "stdout",
     "output_type": "stream",
     "text": [
      "Your Revenues Are: 8238.929884000001\n"
     ]
    }
   ],
   "source": [
    "new_value = float(input('Enter the Your Revenue Percentage\\n40% Is Prefered'))\n",
    "print('Your Revenues Are:', *(y * new_value))"
   ]
  }
 ],
 "metadata": {
  "kernelspec": {
   "display_name": "Python 3",
   "language": "python",
   "name": "python3"
  },
  "language_info": {
   "codemirror_mode": {
    "name": "ipython",
    "version": 3
   },
   "file_extension": ".py",
   "mimetype": "text/x-python",
   "name": "python",
   "nbconvert_exporter": "python",
   "pygments_lexer": "ipython3",
   "version": "3.12.3"
  }
 },
 "nbformat": 4,
 "nbformat_minor": 2
}
